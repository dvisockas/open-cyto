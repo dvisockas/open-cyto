{
 "cells": [
  {
   "cell_type": "code",
   "execution_count": 1,
   "id": "0e591f87-4dd9-4e3d-b3c2-433597401449",
   "metadata": {},
   "outputs": [],
   "source": [
    "from icevision.all import *\n",
    "import icedata\n",
    "import torch"
   ]
  },
  {
   "cell_type": "code",
   "execution_count": 2,
   "id": "6e282a23-c331-440e-8aa9-2a7717ac43de",
   "metadata": {},
   "outputs": [
    {
     "name": "stdout",
     "output_type": "stream",
     "text": [
      "All good\n"
     ]
    }
   ],
   "source": [
    "if torch.cuda.is_available() and torch.backends.cudnn.enabled: print(\"All good\")"
   ]
  },
  {
   "cell_type": "code",
   "execution_count": null,
   "id": "48a7f4bf-f626-4afd-be51-ef7b0d9bce26",
   "metadata": {},
   "outputs": [],
   "source": []
  }
 ],
 "metadata": {
  "kernelspec": {
   "display_name": "Python 3",
   "language": "python",
   "name": "python3"
  },
  "language_info": {
   "codemirror_mode": {
    "name": "ipython",
    "version": 3
   },
   "file_extension": ".py",
   "mimetype": "text/x-python",
   "name": "python",
   "nbconvert_exporter": "python",
   "pygments_lexer": "ipython3",
   "version": "3.8.13"
  }
 },
 "nbformat": 4,
 "nbformat_minor": 5
}
