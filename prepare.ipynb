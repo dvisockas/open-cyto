{
 "cells": [
  {
   "cell_type": "code",
   "execution_count": 14,
   "id": "0127473e-0143-4c17-85ea-6c35c2fcb0a6",
   "metadata": {},
   "outputs": [],
   "source": [
    "import numpy as np\n",
    "from PIL import Image\n",
    "import requests\n",
    "import io\n",
    "import json\n",
    "import datetime as dt\n",
    "import logging\n",
    "from shapely import wkt\n",
    "from shapely.geometry import Polygon\n",
    "import requests\n",
    "from PIL import Image\n",
    "import cv2\n",
    "from tqdm.notebook import tqdm\n",
    "import os"
   ]
  },
  {
   "cell_type": "code",
   "execution_count": 15,
   "id": "0eb311b6-e11c-4305-bf7a-4d19a990077b",
   "metadata": {},
   "outputs": [],
   "source": [
    "data_json_url = 'export-2022-12-04T18_21_34.728Z.json'\n",
    "# data_json_url = 'data.json'"
   ]
  },
  {
   "cell_type": "code",
   "execution_count": 16,
   "id": "85ff6987-1df0-4c5d-a723-506845afbbdb",
   "metadata": {},
   "outputs": [],
   "source": [
    "ENV = {}\n",
    "with open(\".env\", 'r') as f:\n",
    "    lines = [row.rstrip('\\n') for row in f]\n",
    "    for line in lines:\n",
    "        key, value = line.split(\"=\")\n",
    "        ENV[key] = value\n",
    "headers = {'Authorization': f\"Bearer {ENV['LABELBOX_API_KEY']}\"}"
   ]
  },
  {
   "cell_type": "code",
   "execution_count": 17,
   "id": "883493c1-8706-4fd1-91b1-4a6557ed4767",
   "metadata": {},
   "outputs": [],
   "source": [
    "def url_to_mask(url):\n",
    "    filepath = f\"data/masks/{url.replace('https://api.labelbox.com/masks/feature/', '').split('?')[0]}\"\n",
    "    if os.path.exists(filepath):\n",
    "        img = Image.open(filepath)\n",
    "    else:\n",
    "        response = requests.get(url, headers=headers)\n",
    "        stream = io.BytesIO(response.content)\n",
    "        with open(filepath, 'wb') as f:\n",
    "            f.write(response.content)\n",
    "        img = Image.open(stream)\n",
    "    return np.asarray(img)[:,:,0]"
   ]
  },
  {
   "cell_type": "markdown",
   "id": "67cba7a8-5da8-43c9-bef3-512c39d42862",
   "metadata": {},
   "source": [
    "### Building the actual dataset"
   ]
  },
  {
   "cell_type": "code",
   "execution_count": 18,
   "id": "6cd562a3-972a-47d2-a18a-b3c7711c8d19",
   "metadata": {},
   "outputs": [],
   "source": [
    "with open(data_json_url, 'r') as f:\n",
    "    lines = f.read()\n",
    "    label_data = json.loads(lines)"
   ]
  },
  {
   "cell_type": "code",
   "execution_count": 19,
   "id": "8a8816f5-a5a2-4ba1-9b67-628ef893f07d",
   "metadata": {},
   "outputs": [],
   "source": [
    "coco = {\n",
    "    'info': None,\n",
    "    'images': [],\n",
    "    'annotations': [],\n",
    "    'licenses': [],\n",
    "    'categories': []\n",
    "}\n",
    "\n",
    "coco['info'] = {\n",
    "    'year': dt.datetime.now(dt.timezone.utc).year,\n",
    "    'version': None,\n",
    "    'description': label_data[0]['Project Name'],\n",
    "    'contributor': label_data[0]['Created By'],\n",
    "    'url': 'labelbox.com',\n",
    "    'date_created': dt.datetime.now(dt.timezone.utc).isoformat()\n",
    "}\n"
   ]
  },
  {
   "cell_type": "code",
   "execution_count": 20,
   "id": "bdb24ea8-0467-44c2-a774-1b96c83af720",
   "metadata": {},
   "outputs": [],
   "source": [
    "categories = set()\n",
    "for data in label_data:\n",
    "    for obj in data['Label']['objects']:\n",
    "        categories.add(obj['value'])\n",
    "coco_categories = [{\"supercategory\": category, \"id\": idx + 1, \"name\": category} for idx, category in enumerate(categories)]\n",
    "coco['categories'] = coco_categories\n",
    "def category_to_id(category): return list(categories).index(category) + 1"
   ]
  },
  {
   "cell_type": "code",
   "execution_count": 21,
   "id": "56a97599-60ae-4c38-8637-7bee4cd0a517",
   "metadata": {},
   "outputs": [
    {
     "data": {
      "application/vnd.jupyter.widget-view+json": {
       "model_id": "593436ba735a432782626af46ca32d8f",
       "version_major": 2,
       "version_minor": 0
      },
      "text/plain": [
       "  0%|          | 0/193 [00:00<?, ?it/s]"
      ]
     },
     "metadata": {},
     "output_type": "display_data"
    }
   ],
   "source": [
    "for data in tqdm(label_data):\n",
    "    if len(data['Label']['objects']) < 1: continue\n",
    "    try:\n",
    "        response = requests.get(data['Labeled Data'], stream=True)\n",
    "    except requests.exceptions.MissingSchema as e:\n",
    "        logging.exception(('\"Labeled Data\" field must be a URL. '\n",
    "                            'Support for local files coming soon'))\n",
    "        continue\n",
    "    except requests.exceptions.ConnectionError as e:\n",
    "        logging.exception('Failed to fetch image from {}'\n",
    "                            .format(data['Labeled Data']))\n",
    "        continue\n",
    "\n",
    "    response.raw.decode_content = True\n",
    "    im = Image.open(response.raw)\n",
    "    width, height = im.size\n",
    "\n",
    "    image = {\n",
    "        \"id\": data['ID'],\n",
    "        \"width\": width,\n",
    "        \"height\": height,\n",
    "        \"file_name\": data['Labeled Data'].replace(\"https://storage.labelbox.com/\", \"\").split(\"?\")[0],\n",
    "        \"license\": None,\n",
    "        \"flickr_url\": data['Labeled Data'],\n",
    "        \"coco_url\": data['Labeled Data'],\n",
    "        \"date_captured\": None,\n",
    "        \"categories\": coco_categories,\n",
    "    }\n",
    "\n",
    "    coco['images'].append(image)\n",
    "    \n",
    "    for obj in data['Label']['objects']:\n",
    "        if len(polygon.exterior.coords) < 3: continue\n",
    "        \n",
    "        cat_id = category_to_id(obj['value'])\n",
    "        imgray = url_to_mask(obj['instanceURI'])\n",
    "        ret, thresh = cv2.threshold(imgray, 127, 255, 0)\n",
    "        contours, hierarchy = cv2.findContours(thresh, cv2.RETR_TREE, cv2.CHAIN_APPROX_SIMPLE)\n",
    "        polygon = Polygon([contour[0] for contour in contours[-1]])\n",
    "        segmentation = []\n",
    "        for x, y in polygon.exterior.coords:\n",
    "            segmentation.extend([x, y])\n",
    "\n",
    "        annotation = {\n",
    "            \"id\": len(coco['annotations']) + 1,\n",
    "            \"image_id\": data['ID'],\n",
    "            \"category_id\": cat_id,\n",
    "            \"segmentation\": [segmentation],\n",
    "            \"area\": polygon.area,\n",
    "            \"bbox\": [polygon.bounds[0], polygon.bounds[1],\n",
    "                        polygon.bounds[2]-polygon.bounds[0],\n",
    "                        polygon.bounds[3]-polygon.bounds[1]],\n",
    "            \"iscrowd\": 0\n",
    "        }\n",
    "\n",
    "        coco['annotations'].append(annotation)"
   ]
  },
  {
   "cell_type": "code",
   "execution_count": 23,
   "id": "d920900a-6903-425c-ae09-6320823afecc",
   "metadata": {},
   "outputs": [],
   "source": [
    "with open('data/annotations_dec.json', 'w') as f:\n",
    "    f.write(json.dumps(coco))"
   ]
  },
  {
   "cell_type": "code",
   "execution_count": null,
   "id": "ebdb14d2-fba8-429d-b9a1-6667f786bec4",
   "metadata": {},
   "outputs": [],
   "source": []
  }
 ],
 "metadata": {
  "kernelspec": {
   "display_name": "Python 3",
   "language": "python",
   "name": "python3"
  },
  "language_info": {
   "codemirror_mode": {
    "name": "ipython",
    "version": 3
   },
   "file_extension": ".py",
   "mimetype": "text/x-python",
   "name": "python",
   "nbconvert_exporter": "python",
   "pygments_lexer": "ipython3",
   "version": "3.8.13"
  }
 },
 "nbformat": 4,
 "nbformat_minor": 5
}
